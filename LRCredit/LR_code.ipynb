{
 "cells": [
  {
   "cell_type": "markdown",
   "id": "bea92b0e",
   "metadata": {},
   "source": [
    "# Import Packages"
   ]
  },
  {
   "cell_type": "code",
   "execution_count": 1,
   "id": "072be06d",
   "metadata": {},
   "outputs": [],
   "source": [
    "import numpy as np\n",
    "import pandas as pd\n",
    "import matplotlib.pyplot as plt\n",
    "import seaborn as sns\n",
    "from sklearn import linear_model\n",
    "from sklearn.impute import KNNImputer\n",
    "\n",
    "from sklearn.model_selection import train_test_split\n",
    "from sklearn.tree import DecisionTreeClassifier\n",
    "from sklearn.metrics import roc_curve, auc, roc_auc_score\n",
    "from IPython.display import display\n",
    "%matplotlib inline\n",
    "import warnings\n",
    "warnings.filterwarnings('ignore')\n",
    "from IPython.core.interactiveshell import InteractiveShell\n",
    "InteractiveShell.ast_node_interactivity = \"all\""
   ]
  },
  {
   "cell_type": "code",
   "execution_count": 2,
   "id": "7b7b074d",
   "metadata": {},
   "outputs": [
    {
     "data": {
      "text/plain": [
       "(150000, 12)"
      ]
     },
     "execution_count": 2,
     "metadata": {},
     "output_type": "execute_result"
    },
    {
     "data": {
      "text/plain": [
       "(101503, 12)"
      ]
     },
     "execution_count": 2,
     "metadata": {},
     "output_type": "execute_result"
    },
    {
     "data": {
      "text/html": [
       "<div>\n",
       "<style scoped>\n",
       "    .dataframe tbody tr th:only-of-type {\n",
       "        vertical-align: middle;\n",
       "    }\n",
       "\n",
       "    .dataframe tbody tr th {\n",
       "        vertical-align: top;\n",
       "    }\n",
       "\n",
       "    .dataframe thead th {\n",
       "        text-align: right;\n",
       "    }\n",
       "</style>\n",
       "<table border=\"1\" class=\"dataframe\">\n",
       "  <thead>\n",
       "    <tr style=\"text-align: right;\">\n",
       "      <th></th>\n",
       "      <th>Unnamed: 0</th>\n",
       "      <th>SeriousDlqin2yrs</th>\n",
       "      <th>RevolvingUtilizationOfUnsecuredLines</th>\n",
       "      <th>age</th>\n",
       "      <th>NumberOfTime30-59DaysPastDueNotWorse</th>\n",
       "      <th>DebtRatio</th>\n",
       "      <th>MonthlyIncome</th>\n",
       "      <th>NumberOfOpenCreditLinesAndLoans</th>\n",
       "      <th>NumberOfTimes90DaysLate</th>\n",
       "      <th>NumberRealEstateLoansOrLines</th>\n",
       "      <th>NumberOfTime60-89DaysPastDueNotWorse</th>\n",
       "      <th>NumberOfDependents</th>\n",
       "    </tr>\n",
       "  </thead>\n",
       "  <tbody>\n",
       "    <tr>\n",
       "      <th>0</th>\n",
       "      <td>1</td>\n",
       "      <td>1</td>\n",
       "      <td>0.766127</td>\n",
       "      <td>45</td>\n",
       "      <td>2</td>\n",
       "      <td>0.802982</td>\n",
       "      <td>9120.0</td>\n",
       "      <td>13</td>\n",
       "      <td>0</td>\n",
       "      <td>6</td>\n",
       "      <td>0</td>\n",
       "      <td>2.0</td>\n",
       "    </tr>\n",
       "    <tr>\n",
       "      <th>1</th>\n",
       "      <td>2</td>\n",
       "      <td>0</td>\n",
       "      <td>0.957151</td>\n",
       "      <td>40</td>\n",
       "      <td>0</td>\n",
       "      <td>0.121876</td>\n",
       "      <td>2600.0</td>\n",
       "      <td>4</td>\n",
       "      <td>0</td>\n",
       "      <td>0</td>\n",
       "      <td>0</td>\n",
       "      <td>1.0</td>\n",
       "    </tr>\n",
       "    <tr>\n",
       "      <th>2</th>\n",
       "      <td>3</td>\n",
       "      <td>0</td>\n",
       "      <td>0.658180</td>\n",
       "      <td>38</td>\n",
       "      <td>1</td>\n",
       "      <td>0.085113</td>\n",
       "      <td>3042.0</td>\n",
       "      <td>2</td>\n",
       "      <td>1</td>\n",
       "      <td>0</td>\n",
       "      <td>0</td>\n",
       "      <td>0.0</td>\n",
       "    </tr>\n",
       "    <tr>\n",
       "      <th>3</th>\n",
       "      <td>4</td>\n",
       "      <td>0</td>\n",
       "      <td>0.233810</td>\n",
       "      <td>30</td>\n",
       "      <td>0</td>\n",
       "      <td>0.036050</td>\n",
       "      <td>3300.0</td>\n",
       "      <td>5</td>\n",
       "      <td>0</td>\n",
       "      <td>0</td>\n",
       "      <td>0</td>\n",
       "      <td>0.0</td>\n",
       "    </tr>\n",
       "    <tr>\n",
       "      <th>4</th>\n",
       "      <td>5</td>\n",
       "      <td>0</td>\n",
       "      <td>0.907239</td>\n",
       "      <td>49</td>\n",
       "      <td>1</td>\n",
       "      <td>0.024926</td>\n",
       "      <td>63588.0</td>\n",
       "      <td>7</td>\n",
       "      <td>0</td>\n",
       "      <td>1</td>\n",
       "      <td>0</td>\n",
       "      <td>0.0</td>\n",
       "    </tr>\n",
       "  </tbody>\n",
       "</table>\n",
       "</div>"
      ],
      "text/plain": [
       "   Unnamed: 0  SeriousDlqin2yrs  RevolvingUtilizationOfUnsecuredLines  age  \\\n",
       "0           1                 1                              0.766127   45   \n",
       "1           2                 0                              0.957151   40   \n",
       "2           3                 0                              0.658180   38   \n",
       "3           4                 0                              0.233810   30   \n",
       "4           5                 0                              0.907239   49   \n",
       "\n",
       "   NumberOfTime30-59DaysPastDueNotWorse  DebtRatio  MonthlyIncome  \\\n",
       "0                                     2   0.802982         9120.0   \n",
       "1                                     0   0.121876         2600.0   \n",
       "2                                     1   0.085113         3042.0   \n",
       "3                                     0   0.036050         3300.0   \n",
       "4                                     1   0.024926        63588.0   \n",
       "\n",
       "   NumberOfOpenCreditLinesAndLoans  NumberOfTimes90DaysLate  \\\n",
       "0                               13                        0   \n",
       "1                                4                        0   \n",
       "2                                2                        1   \n",
       "3                                5                        0   \n",
       "4                                7                        0   \n",
       "\n",
       "   NumberRealEstateLoansOrLines  NumberOfTime60-89DaysPastDueNotWorse  \\\n",
       "0                             6                                     0   \n",
       "1                             0                                     0   \n",
       "2                             0                                     0   \n",
       "3                             0                                     0   \n",
       "4                             1                                     0   \n",
       "\n",
       "   NumberOfDependents  \n",
       "0                 2.0  \n",
       "1                 1.0  \n",
       "2                 0.0  \n",
       "3                 0.0  \n",
       "4                 0.0  "
      ]
     },
     "execution_count": 2,
     "metadata": {},
     "output_type": "execute_result"
    },
    {
     "data": {
      "text/html": [
       "<div>\n",
       "<style scoped>\n",
       "    .dataframe tbody tr th:only-of-type {\n",
       "        vertical-align: middle;\n",
       "    }\n",
       "\n",
       "    .dataframe tbody tr th {\n",
       "        vertical-align: top;\n",
       "    }\n",
       "\n",
       "    .dataframe thead th {\n",
       "        text-align: right;\n",
       "    }\n",
       "</style>\n",
       "<table border=\"1\" class=\"dataframe\">\n",
       "  <thead>\n",
       "    <tr style=\"text-align: right;\">\n",
       "      <th></th>\n",
       "      <th>Unnamed: 0</th>\n",
       "      <th>SeriousDlqin2yrs</th>\n",
       "      <th>RevolvingUtilizationOfUnsecuredLines</th>\n",
       "      <th>age</th>\n",
       "      <th>NumberOfTime30-59DaysPastDueNotWorse</th>\n",
       "      <th>DebtRatio</th>\n",
       "      <th>MonthlyIncome</th>\n",
       "      <th>NumberOfOpenCreditLinesAndLoans</th>\n",
       "      <th>NumberOfTimes90DaysLate</th>\n",
       "      <th>NumberRealEstateLoansOrLines</th>\n",
       "      <th>NumberOfTime60-89DaysPastDueNotWorse</th>\n",
       "      <th>NumberOfDependents</th>\n",
       "    </tr>\n",
       "  </thead>\n",
       "  <tbody>\n",
       "    <tr>\n",
       "      <th>count</th>\n",
       "      <td>150000.000000</td>\n",
       "      <td>150000.000000</td>\n",
       "      <td>150000.000000</td>\n",
       "      <td>150000.000000</td>\n",
       "      <td>150000.000000</td>\n",
       "      <td>150000.000000</td>\n",
       "      <td>1.202690e+05</td>\n",
       "      <td>150000.000000</td>\n",
       "      <td>150000.000000</td>\n",
       "      <td>150000.000000</td>\n",
       "      <td>150000.000000</td>\n",
       "      <td>146076.000000</td>\n",
       "    </tr>\n",
       "    <tr>\n",
       "      <th>mean</th>\n",
       "      <td>75000.500000</td>\n",
       "      <td>0.066840</td>\n",
       "      <td>6.048438</td>\n",
       "      <td>52.295207</td>\n",
       "      <td>0.421033</td>\n",
       "      <td>353.005076</td>\n",
       "      <td>6.670221e+03</td>\n",
       "      <td>8.452760</td>\n",
       "      <td>0.265973</td>\n",
       "      <td>1.018240</td>\n",
       "      <td>0.240387</td>\n",
       "      <td>0.757222</td>\n",
       "    </tr>\n",
       "    <tr>\n",
       "      <th>std</th>\n",
       "      <td>43301.414527</td>\n",
       "      <td>0.249746</td>\n",
       "      <td>249.755371</td>\n",
       "      <td>14.771866</td>\n",
       "      <td>4.192781</td>\n",
       "      <td>2037.818523</td>\n",
       "      <td>1.438467e+04</td>\n",
       "      <td>5.145951</td>\n",
       "      <td>4.169304</td>\n",
       "      <td>1.129771</td>\n",
       "      <td>4.155179</td>\n",
       "      <td>1.115086</td>\n",
       "    </tr>\n",
       "    <tr>\n",
       "      <th>min</th>\n",
       "      <td>1.000000</td>\n",
       "      <td>0.000000</td>\n",
       "      <td>0.000000</td>\n",
       "      <td>0.000000</td>\n",
       "      <td>0.000000</td>\n",
       "      <td>0.000000</td>\n",
       "      <td>0.000000e+00</td>\n",
       "      <td>0.000000</td>\n",
       "      <td>0.000000</td>\n",
       "      <td>0.000000</td>\n",
       "      <td>0.000000</td>\n",
       "      <td>0.000000</td>\n",
       "    </tr>\n",
       "    <tr>\n",
       "      <th>25%</th>\n",
       "      <td>37500.750000</td>\n",
       "      <td>0.000000</td>\n",
       "      <td>0.029867</td>\n",
       "      <td>41.000000</td>\n",
       "      <td>0.000000</td>\n",
       "      <td>0.175074</td>\n",
       "      <td>3.400000e+03</td>\n",
       "      <td>5.000000</td>\n",
       "      <td>0.000000</td>\n",
       "      <td>0.000000</td>\n",
       "      <td>0.000000</td>\n",
       "      <td>0.000000</td>\n",
       "    </tr>\n",
       "    <tr>\n",
       "      <th>50%</th>\n",
       "      <td>75000.500000</td>\n",
       "      <td>0.000000</td>\n",
       "      <td>0.154181</td>\n",
       "      <td>52.000000</td>\n",
       "      <td>0.000000</td>\n",
       "      <td>0.366508</td>\n",
       "      <td>5.400000e+03</td>\n",
       "      <td>8.000000</td>\n",
       "      <td>0.000000</td>\n",
       "      <td>1.000000</td>\n",
       "      <td>0.000000</td>\n",
       "      <td>0.000000</td>\n",
       "    </tr>\n",
       "    <tr>\n",
       "      <th>75%</th>\n",
       "      <td>112500.250000</td>\n",
       "      <td>0.000000</td>\n",
       "      <td>0.559046</td>\n",
       "      <td>63.000000</td>\n",
       "      <td>0.000000</td>\n",
       "      <td>0.868254</td>\n",
       "      <td>8.249000e+03</td>\n",
       "      <td>11.000000</td>\n",
       "      <td>0.000000</td>\n",
       "      <td>2.000000</td>\n",
       "      <td>0.000000</td>\n",
       "      <td>1.000000</td>\n",
       "    </tr>\n",
       "    <tr>\n",
       "      <th>max</th>\n",
       "      <td>150000.000000</td>\n",
       "      <td>1.000000</td>\n",
       "      <td>50708.000000</td>\n",
       "      <td>109.000000</td>\n",
       "      <td>98.000000</td>\n",
       "      <td>329664.000000</td>\n",
       "      <td>3.008750e+06</td>\n",
       "      <td>58.000000</td>\n",
       "      <td>98.000000</td>\n",
       "      <td>54.000000</td>\n",
       "      <td>98.000000</td>\n",
       "      <td>20.000000</td>\n",
       "    </tr>\n",
       "  </tbody>\n",
       "</table>\n",
       "</div>"
      ],
      "text/plain": [
       "          Unnamed: 0  SeriousDlqin2yrs  RevolvingUtilizationOfUnsecuredLines  \\\n",
       "count  150000.000000     150000.000000                         150000.000000   \n",
       "mean    75000.500000          0.066840                              6.048438   \n",
       "std     43301.414527          0.249746                            249.755371   \n",
       "min         1.000000          0.000000                              0.000000   \n",
       "25%     37500.750000          0.000000                              0.029867   \n",
       "50%     75000.500000          0.000000                              0.154181   \n",
       "75%    112500.250000          0.000000                              0.559046   \n",
       "max    150000.000000          1.000000                          50708.000000   \n",
       "\n",
       "                 age  NumberOfTime30-59DaysPastDueNotWorse      DebtRatio  \\\n",
       "count  150000.000000                         150000.000000  150000.000000   \n",
       "mean       52.295207                              0.421033     353.005076   \n",
       "std        14.771866                              4.192781    2037.818523   \n",
       "min         0.000000                              0.000000       0.000000   \n",
       "25%        41.000000                              0.000000       0.175074   \n",
       "50%        52.000000                              0.000000       0.366508   \n",
       "75%        63.000000                              0.000000       0.868254   \n",
       "max       109.000000                             98.000000  329664.000000   \n",
       "\n",
       "       MonthlyIncome  NumberOfOpenCreditLinesAndLoans  \\\n",
       "count   1.202690e+05                    150000.000000   \n",
       "mean    6.670221e+03                         8.452760   \n",
       "std     1.438467e+04                         5.145951   \n",
       "min     0.000000e+00                         0.000000   \n",
       "25%     3.400000e+03                         5.000000   \n",
       "50%     5.400000e+03                         8.000000   \n",
       "75%     8.249000e+03                        11.000000   \n",
       "max     3.008750e+06                        58.000000   \n",
       "\n",
       "       NumberOfTimes90DaysLate  NumberRealEstateLoansOrLines  \\\n",
       "count            150000.000000                 150000.000000   \n",
       "mean                  0.265973                      1.018240   \n",
       "std                   4.169304                      1.129771   \n",
       "min                   0.000000                      0.000000   \n",
       "25%                   0.000000                      0.000000   \n",
       "50%                   0.000000                      1.000000   \n",
       "75%                   0.000000                      2.000000   \n",
       "max                  98.000000                     54.000000   \n",
       "\n",
       "       NumberOfTime60-89DaysPastDueNotWorse  NumberOfDependents  \n",
       "count                         150000.000000       146076.000000  \n",
       "mean                               0.240387            0.757222  \n",
       "std                                4.155179            1.115086  \n",
       "min                                0.000000            0.000000  \n",
       "25%                                0.000000            0.000000  \n",
       "50%                                0.000000            0.000000  \n",
       "75%                                0.000000            1.000000  \n",
       "max                               98.000000           20.000000  "
      ]
     },
     "execution_count": 2,
     "metadata": {},
     "output_type": "execute_result"
    },
    {
     "data": {
      "text/html": [
       "<div>\n",
       "<style scoped>\n",
       "    .dataframe tbody tr th:only-of-type {\n",
       "        vertical-align: middle;\n",
       "    }\n",
       "\n",
       "    .dataframe tbody tr th {\n",
       "        vertical-align: top;\n",
       "    }\n",
       "\n",
       "    .dataframe thead th {\n",
       "        text-align: right;\n",
       "    }\n",
       "</style>\n",
       "<table border=\"1\" class=\"dataframe\">\n",
       "  <thead>\n",
       "    <tr style=\"text-align: right;\">\n",
       "      <th></th>\n",
       "      <th>Unnamed: 0</th>\n",
       "      <th>SeriousDlqin2yrs</th>\n",
       "      <th>RevolvingUtilizationOfUnsecuredLines</th>\n",
       "      <th>age</th>\n",
       "      <th>NumberOfTime30-59DaysPastDueNotWorse</th>\n",
       "      <th>DebtRatio</th>\n",
       "      <th>MonthlyIncome</th>\n",
       "      <th>NumberOfOpenCreditLinesAndLoans</th>\n",
       "      <th>NumberOfTimes90DaysLate</th>\n",
       "      <th>NumberRealEstateLoansOrLines</th>\n",
       "      <th>NumberOfTime60-89DaysPastDueNotWorse</th>\n",
       "      <th>NumberOfDependents</th>\n",
       "    </tr>\n",
       "  </thead>\n",
       "  <tbody>\n",
       "    <tr>\n",
       "      <th>count</th>\n",
       "      <td>101503.000000</td>\n",
       "      <td>0.0</td>\n",
       "      <td>101503.000000</td>\n",
       "      <td>101503.000000</td>\n",
       "      <td>101503.000000</td>\n",
       "      <td>101503.000000</td>\n",
       "      <td>8.140000e+04</td>\n",
       "      <td>101503.000000</td>\n",
       "      <td>101503.000000</td>\n",
       "      <td>101503.000000</td>\n",
       "      <td>101503.000000</td>\n",
       "      <td>98877.000000</td>\n",
       "    </tr>\n",
       "    <tr>\n",
       "      <th>mean</th>\n",
       "      <td>50752.000000</td>\n",
       "      <td>NaN</td>\n",
       "      <td>5.310000</td>\n",
       "      <td>52.405436</td>\n",
       "      <td>0.453770</td>\n",
       "      <td>344.475020</td>\n",
       "      <td>6.855036e+03</td>\n",
       "      <td>8.453514</td>\n",
       "      <td>0.296691</td>\n",
       "      <td>1.013074</td>\n",
       "      <td>0.270317</td>\n",
       "      <td>0.769046</td>\n",
       "    </tr>\n",
       "    <tr>\n",
       "      <th>std</th>\n",
       "      <td>29301.536524</td>\n",
       "      <td>NaN</td>\n",
       "      <td>196.156039</td>\n",
       "      <td>14.779756</td>\n",
       "      <td>4.538487</td>\n",
       "      <td>1632.595231</td>\n",
       "      <td>3.650860e+04</td>\n",
       "      <td>5.144100</td>\n",
       "      <td>4.515859</td>\n",
       "      <td>1.110253</td>\n",
       "      <td>4.503578</td>\n",
       "      <td>1.136778</td>\n",
       "    </tr>\n",
       "    <tr>\n",
       "      <th>min</th>\n",
       "      <td>1.000000</td>\n",
       "      <td>NaN</td>\n",
       "      <td>0.000000</td>\n",
       "      <td>21.000000</td>\n",
       "      <td>0.000000</td>\n",
       "      <td>0.000000</td>\n",
       "      <td>0.000000e+00</td>\n",
       "      <td>0.000000</td>\n",
       "      <td>0.000000</td>\n",
       "      <td>0.000000</td>\n",
       "      <td>0.000000</td>\n",
       "      <td>0.000000</td>\n",
       "    </tr>\n",
       "    <tr>\n",
       "      <th>25%</th>\n",
       "      <td>25376.500000</td>\n",
       "      <td>NaN</td>\n",
       "      <td>0.030131</td>\n",
       "      <td>41.000000</td>\n",
       "      <td>0.000000</td>\n",
       "      <td>0.173423</td>\n",
       "      <td>3.408000e+03</td>\n",
       "      <td>5.000000</td>\n",
       "      <td>0.000000</td>\n",
       "      <td>0.000000</td>\n",
       "      <td>0.000000</td>\n",
       "      <td>0.000000</td>\n",
       "    </tr>\n",
       "    <tr>\n",
       "      <th>50%</th>\n",
       "      <td>50752.000000</td>\n",
       "      <td>NaN</td>\n",
       "      <td>0.152586</td>\n",
       "      <td>52.000000</td>\n",
       "      <td>0.000000</td>\n",
       "      <td>0.364260</td>\n",
       "      <td>5.400000e+03</td>\n",
       "      <td>8.000000</td>\n",
       "      <td>0.000000</td>\n",
       "      <td>1.000000</td>\n",
       "      <td>0.000000</td>\n",
       "      <td>0.000000</td>\n",
       "    </tr>\n",
       "    <tr>\n",
       "      <th>75%</th>\n",
       "      <td>76127.500000</td>\n",
       "      <td>NaN</td>\n",
       "      <td>0.564225</td>\n",
       "      <td>63.000000</td>\n",
       "      <td>0.000000</td>\n",
       "      <td>0.851619</td>\n",
       "      <td>8.200000e+03</td>\n",
       "      <td>11.000000</td>\n",
       "      <td>0.000000</td>\n",
       "      <td>2.000000</td>\n",
       "      <td>0.000000</td>\n",
       "      <td>1.000000</td>\n",
       "    </tr>\n",
       "    <tr>\n",
       "      <th>max</th>\n",
       "      <td>101503.000000</td>\n",
       "      <td>NaN</td>\n",
       "      <td>21821.000000</td>\n",
       "      <td>104.000000</td>\n",
       "      <td>98.000000</td>\n",
       "      <td>268326.000000</td>\n",
       "      <td>7.727000e+06</td>\n",
       "      <td>85.000000</td>\n",
       "      <td>98.000000</td>\n",
       "      <td>37.000000</td>\n",
       "      <td>98.000000</td>\n",
       "      <td>43.000000</td>\n",
       "    </tr>\n",
       "  </tbody>\n",
       "</table>\n",
       "</div>"
      ],
      "text/plain": [
       "          Unnamed: 0  SeriousDlqin2yrs  RevolvingUtilizationOfUnsecuredLines  \\\n",
       "count  101503.000000               0.0                         101503.000000   \n",
       "mean    50752.000000               NaN                              5.310000   \n",
       "std     29301.536524               NaN                            196.156039   \n",
       "min         1.000000               NaN                              0.000000   \n",
       "25%     25376.500000               NaN                              0.030131   \n",
       "50%     50752.000000               NaN                              0.152586   \n",
       "75%     76127.500000               NaN                              0.564225   \n",
       "max    101503.000000               NaN                          21821.000000   \n",
       "\n",
       "                 age  NumberOfTime30-59DaysPastDueNotWorse      DebtRatio  \\\n",
       "count  101503.000000                         101503.000000  101503.000000   \n",
       "mean       52.405436                              0.453770     344.475020   \n",
       "std        14.779756                              4.538487    1632.595231   \n",
       "min        21.000000                              0.000000       0.000000   \n",
       "25%        41.000000                              0.000000       0.173423   \n",
       "50%        52.000000                              0.000000       0.364260   \n",
       "75%        63.000000                              0.000000       0.851619   \n",
       "max       104.000000                             98.000000  268326.000000   \n",
       "\n",
       "       MonthlyIncome  NumberOfOpenCreditLinesAndLoans  \\\n",
       "count   8.140000e+04                    101503.000000   \n",
       "mean    6.855036e+03                         8.453514   \n",
       "std     3.650860e+04                         5.144100   \n",
       "min     0.000000e+00                         0.000000   \n",
       "25%     3.408000e+03                         5.000000   \n",
       "50%     5.400000e+03                         8.000000   \n",
       "75%     8.200000e+03                        11.000000   \n",
       "max     7.727000e+06                        85.000000   \n",
       "\n",
       "       NumberOfTimes90DaysLate  NumberRealEstateLoansOrLines  \\\n",
       "count            101503.000000                 101503.000000   \n",
       "mean                  0.296691                      1.013074   \n",
       "std                   4.515859                      1.110253   \n",
       "min                   0.000000                      0.000000   \n",
       "25%                   0.000000                      0.000000   \n",
       "50%                   0.000000                      1.000000   \n",
       "75%                   0.000000                      2.000000   \n",
       "max                  98.000000                     37.000000   \n",
       "\n",
       "       NumberOfTime60-89DaysPastDueNotWorse  NumberOfDependents  \n",
       "count                         101503.000000        98877.000000  \n",
       "mean                               0.270317            0.769046  \n",
       "std                                4.503578            1.136778  \n",
       "min                                0.000000            0.000000  \n",
       "25%                                0.000000            0.000000  \n",
       "50%                                0.000000            0.000000  \n",
       "75%                                0.000000            1.000000  \n",
       "max                               98.000000           43.000000  "
      ]
     },
     "execution_count": 2,
     "metadata": {},
     "output_type": "execute_result"
    }
   ],
   "source": [
    "train_df = pd.read_csv(\"cs-training.csv\")\n",
    "test_df = pd.read_csv(\"cs-test.csv\")\n",
    "\n",
    "submit_df = pd.DataFrame({\"Id\": list(range(1, test_df.shape[0]+1)), \"Probability\": 0})\n",
    "\n",
    "train_df.shape\n",
    "test_df.shape\n",
    "\n",
    "train_df.head()\n",
    "\n",
    "train_df.describe()\n",
    "test_df.describe()"
   ]
  },
  {
   "cell_type": "markdown",
   "id": "d8e390a6",
   "metadata": {},
   "source": [
    "# EDA and Pre-processing\n",
    "## Variables\n",
    "SeriousDlqin2yrs: Person experienced 90 days past due delinquency or worse(Y)   \n",
    "RevolvingUtilizationOfUnsecuredLines: Total balance on credit cards and personal lines of credit except real estate and no installment debt like car loans divided by the sum of credit limits(-)  \n",
    "age: Age of borrower in years(?)  \n",
    "NumberOfTime30-59DaysPastDueNotWorse: Number of times borrower has been 30-59 days past due but no worse in the last 2 years.(+)  \n",
    "DebtRatio: Monthly debt payments, alimony,living costs divided by monthy gross income(+)  \n",
    "MonthlyIncome: Monthly income(+)  \n",
    "NumberOfOpenCreditLinesAndLoans: Number of Open loans (installment like car loan or mortgage) and Lines of credit (e.g. credit cards)(+)  \n",
    "NumberOfTimes90DaysLate: Number of times borrower has been 90 days or more past due.(+)  \n",
    "NumberRealEstateLoansOrLines: Number of mortgage and real estate loans including home equity lines of credit(+)  \n",
    "NumberOfTime60-89DaysPastDueNotWorse: Number of times borrower has been 60-89 days past due but no worse in the last 2 years.(+)  \n",
    "NumberOfDependents: Number of dependents in family excluding themselves (spouse, children etc.)(-)  \n",
    "**(Note)** Y: Target; +: assumed positively related with Y; -: assumed regatively related with Y; ?: assumed no relation with Y.    \n",
    "## Visualization\n"
   ]
  },
  {
   "cell_type": "code",
   "execution_count": 3,
   "id": "817c63cb",
   "metadata": {},
   "outputs": [
    {
     "data": {
      "text/plain": [
       "Unnamed: 0                              150000\n",
       "SeriousDlqin2yrs                             2\n",
       "RevolvingUtilizationOfUnsecuredLines    125728\n",
       "age                                         86\n",
       "NumberOfTime30-59DaysPastDueNotWorse        16\n",
       "DebtRatio                               114194\n",
       "MonthlyIncome                            43325\n",
       "NumberOfOpenCreditLinesAndLoans             58\n",
       "NumberOfTimes90DaysLate                     19\n",
       "NumberRealEstateLoansOrLines                28\n",
       "NumberOfTime60-89DaysPastDueNotWorse        13\n",
       "NumberOfDependents                        3937\n",
       "dtype: int64"
      ]
     },
     "execution_count": 3,
     "metadata": {},
     "output_type": "execute_result"
    }
   ],
   "source": [
    "# All variables can be treated as continuous variables except for Y\n",
    "train_df.apply(lambda x: len(set(x)))"
   ]
  },
  {
   "cell_type": "code",
   "execution_count": 4,
   "id": "cd12a0df",
   "metadata": {},
   "outputs": [],
   "source": [
    "# Use subgroup histogram to visualize\n",
    "def hist_plot(df, con_col, target_col, log_col = []):\n",
    "    items = list(set(df[target_col]))\n",
    "    item_num = len(items)\n",
    "    f, ax = plt.subplots(1, item_num, figsize=(18,8))\n",
    "    for i in range(item_num):\n",
    "        if con_col in log_col:\n",
    "            df.loc[df[target_col]==items[i], con_col].plot.hist(ax=ax[i], bins=20, edgecolor='black', color='pink', log = True)\n",
    "        else:\n",
    "            df.loc[df[target_col]==items[i], con_col].plot.hist(ax=ax[i], bins=20, edgecolor='black', color='pink')\n",
    "        ax[i].set_title(con_col + \": \" + target_col + '=' + str(items[i]))\n",
    "\n",
    "    plt.show()"
   ]
  },
  {
   "cell_type": "markdown",
   "id": "06a9db1b",
   "metadata": {},
   "source": [
    "- Since all variables except for age shows a right skewed distribution, I perform a logrithmic transformation on these variables.   \n",
    "- From the histogram, we can see there is no distinct difference between two groups. However, the group of Y=1 will exhibit more extreme values."
   ]
  },
  {
   "cell_type": "code",
   "execution_count": 5,
   "id": "5475a28c",
   "metadata": {},
   "outputs": [
    {
     "data": {
      "image/png": "[encoded data removed]",
      "text/plain": [
       "<Figure size 1296x576 with 2 Axes>"
      ]
     },
     "metadata": {
      "needs_background": "light"
     },
     "output_type": "display_data"
    },
    {
     "data": {
      "image/png": "[encoded data removed]",
      "text/plain": [
       "<Figure size 1296x576 with 2 Axes>"
      ]
     },
     "metadata": {
      "needs_background": "light"
     },
     "output_type": "display_data"
    },
    {
     "data": {
      "image/png": "[encoded data removed]",
      "text/plain": [
       "<Figure size 1296x576 with 2 Axes>"
      ]
     },
     "metadata": {
      "needs_background": "light"
     },
     "output_type": "display_data"
    },
    {
     "data": {
      "image/png": "[encoded data removed]",
      "text/plain": [
       "<Figure size 1296x576 with 2 Axes>"
      ]
     },
     "metadata": {
      "needs_background": "light"
     },
     "output_type": "display_data"
    },
    {
     "data": {
      "image/png": "[encoded data removed]",
      "text/plain": [
       "<Figure size 1296x576 with 2 Axes>"
      ]
     },
     "metadata": {
      "needs_background": "light"
     },
     "output_type": "display_data"
    },
    {
     "data": {
      "image/png": "[encoded data removed]",
      "text/plain": [
       "<Figure size 1296x576 with 2 Axes>"
      ]
     },
     "metadata": {
      "needs_background": "light"
     },
     "output_type": "display_data"
    },
    {
     "data": {
      "image/png": "[encoded data removed]",
      "text/plain": [
       "<Figure size 1296x576 with 2 Axes>"
      ]
     },
     "metadata": {
      "needs_background": "light"
     },
     "output_type": "display_data"
    },
    {
     "data": {
      "image/png": "[encoded data removed]",
      "text/plain": [
       "<Figure size 1296x576 with 2 Axes>"
      ]
     },
     "metadata": {
      "needs_background": "light"
     },
     "output_type": "display_data"
    },
    {
     "data": {
      "image/png": "[encoded data removed]",
      "text/plain": [
       "<Figure size 1296x576 with 2 Axes>"
      ]
     },
     "metadata": {
      "needs_background": "light"
     },
     "output_type": "display_data"
    },
    {
     "data": {
      "image/png": "[encoded data removed]",
      "text/plain": [
       "<Figure size 1296x576 with 2 Axes>"
      ]
     },
     "metadata": {
      "needs_background": "light"
     },
     "output_type": "display_data"
    }
   ],
   "source": [
    "for col in train_df.columns[2:]:\n",
    "    hist_plot(train_df, col, 'SeriousDlqin2yrs', list(train_df.columns[2:3])+list(train_df.columns[4:]))"
   ]
  },
  {
   "cell_type": "markdown",
   "id": "1e4592e0",
   "metadata": {},
   "source": [
    "## Fill NA"
   ]
  },
  {
   "cell_type": "code",
   "execution_count": 6,
   "id": "a452b1c8",
   "metadata": {},
   "outputs": [],
   "source": [
    "train_label, train_df = train_df.iloc[:, 1], train_df.iloc[:, 2:]\n",
    "test_df = test_df.iloc[:, 2:]"
   ]
  },
  {
   "cell_type": "code",
   "execution_count": 7,
   "id": "f759037d",
   "metadata": {},
   "outputs": [
    {
     "data": {
      "text/plain": [
       "RevolvingUtilizationOfUnsecuredLines        0\n",
       "age                                         0\n",
       "NumberOfTime30-59DaysPastDueNotWorse        0\n",
       "DebtRatio                                   0\n",
       "MonthlyIncome                           29731\n",
       "NumberOfOpenCreditLinesAndLoans             0\n",
       "NumberOfTimes90DaysLate                     0\n",
       "NumberRealEstateLoansOrLines                0\n",
       "NumberOfTime60-89DaysPastDueNotWorse        0\n",
       "NumberOfDependents                       3924\n",
       "dtype: int64"
      ]
     },
     "execution_count": 7,
     "metadata": {},
     "output_type": "execute_result"
    },
    {
     "data": {
      "text/plain": [
       "RevolvingUtilizationOfUnsecuredLines        0\n",
       "age                                         0\n",
       "NumberOfTime30-59DaysPastDueNotWorse        0\n",
       "DebtRatio                                   0\n",
       "MonthlyIncome                           20103\n",
       "NumberOfOpenCreditLinesAndLoans             0\n",
       "NumberOfTimes90DaysLate                     0\n",
       "NumberRealEstateLoansOrLines                0\n",
       "NumberOfTime60-89DaysPastDueNotWorse        0\n",
       "NumberOfDependents                       2626\n",
       "dtype: int64"
      ]
     },
     "execution_count": 7,
     "metadata": {},
     "output_type": "execute_result"
    }
   ],
   "source": [
    "train_df.isnull().sum()\n",
    "test_df.isnull().sum()"
   ]
  },
  {
   "cell_type": "code",
   "execution_count": 8,
   "id": "52147536",
   "metadata": {},
   "outputs": [],
   "source": [
    "knn_null = KNNImputer(n_neighbors = 5)\n",
    "train_knn = knn_null.fit_transform(train_df)\n",
    "test_knn = knn_null.fit_transform(test_df)"
   ]
  },
  {
   "cell_type": "code",
   "execution_count": 9,
   "id": "f514ba98",
   "metadata": {},
   "outputs": [],
   "source": [
    "test_knn = knn_null.fit_transform(test_df)"
   ]
  },
  {
   "cell_type": "code",
   "execution_count": 10,
   "id": "db751d2e",
   "metadata": {},
   "outputs": [],
   "source": [
    "train_df_knn = pd.DataFrame(train_knn)\n",
    "train_df_knn.columns = train_df.columns\n",
    "\n",
    "test_df_knn = pd.DataFrame(test_knn)\n",
    "test_df_knn.columns = test_df.columns"
   ]
  },
  {
   "cell_type": "code",
   "execution_count": 11,
   "id": "f0371ca0",
   "metadata": {},
   "outputs": [
    {
     "data": {
      "text/plain": [
       "RevolvingUtilizationOfUnsecuredLines    0\n",
       "age                                     0\n",
       "NumberOfTime30-59DaysPastDueNotWorse    0\n",
       "DebtRatio                               0\n",
       "MonthlyIncome                           0\n",
       "NumberOfOpenCreditLinesAndLoans         0\n",
       "NumberOfTimes90DaysLate                 0\n",
       "NumberRealEstateLoansOrLines            0\n",
       "NumberOfTime60-89DaysPastDueNotWorse    0\n",
       "NumberOfDependents                      0\n",
       "dtype: int64"
      ]
     },
     "execution_count": 11,
     "metadata": {},
     "output_type": "execute_result"
    },
    {
     "data": {
      "text/plain": [
       "RevolvingUtilizationOfUnsecuredLines    0\n",
       "age                                     0\n",
       "NumberOfTime30-59DaysPastDueNotWorse    0\n",
       "DebtRatio                               0\n",
       "MonthlyIncome                           0\n",
       "NumberOfOpenCreditLinesAndLoans         0\n",
       "NumberOfTimes90DaysLate                 0\n",
       "NumberRealEstateLoansOrLines            0\n",
       "NumberOfTime60-89DaysPastDueNotWorse    0\n",
       "NumberOfDependents                      0\n",
       "dtype: int64"
      ]
     },
     "execution_count": 11,
     "metadata": {},
     "output_type": "execute_result"
    }
   ],
   "source": [
    "train_df_knn.isnull().sum()\n",
    "test_df_knn.isnull().sum()"
   ]
  },
  {
   "cell_type": "code",
   "execution_count": 12,
   "id": "fe01e266",
   "metadata": {},
   "outputs": [],
   "source": [
    "# for x in [\"MonthlyIncome\", \"NumberOfDependents\"]:\n",
    "#     hist_plot(train_df_knn, x, \"SeriousDlqin2yrs\", [\"MonthlyIncome\", \"NumberOfDependents\"])"
   ]
  },
  {
   "cell_type": "markdown",
   "id": "211510c4",
   "metadata": {},
   "source": [
    "# Model\n",
    "## Logistic Regression"
   ]
  },
  {
   "cell_type": "markdown",
   "id": "84d3c76c",
   "metadata": {},
   "source": [
    "### Subgroup variables into bins"
   ]
  },
  {
   "cell_type": "code",
   "execution_count": 13,
   "id": "08193ed8",
   "metadata": {},
   "outputs": [
    {
     "data": {
      "text/plain": [
       "DecisionTreeClassifier(criterion='entropy', max_leaf_nodes=5,\n",
       "                       min_samples_leaf=0.05)"
      ]
     },
     "execution_count": 13,
     "metadata": {},
     "output_type": "execute_result"
    },
    {
     "data": {
      "text/plain": [
       "DecisionTreeClassifier(criterion='entropy', max_leaf_nodes=5,\n",
       "                       min_samples_leaf=0.05)"
      ]
     },
     "execution_count": 13,
     "metadata": {},
     "output_type": "execute_result"
    },
    {
     "data": {
      "text/plain": [
       "DecisionTreeClassifier(criterion='entropy', max_leaf_nodes=5,\n",
       "                       min_samples_leaf=0.05)"
      ]
     },
     "execution_count": 13,
     "metadata": {},
     "output_type": "execute_result"
    },
    {
     "data": {
      "text/plain": [
       "DecisionTreeClassifier(criterion='entropy', max_leaf_nodes=5,\n",
       "                       min_samples_leaf=0.05)"
      ]
     },
     "execution_count": 13,
     "metadata": {},
     "output_type": "execute_result"
    },
    {
     "data": {
      "text/plain": [
       "DecisionTreeClassifier(criterion='entropy', max_leaf_nodes=5,\n",
       "                       min_samples_leaf=0.05)"
      ]
     },
     "execution_count": 13,
     "metadata": {},
     "output_type": "execute_result"
    },
    {
     "data": {
      "text/plain": [
       "DecisionTreeClassifier(criterion='entropy', max_leaf_nodes=5,\n",
       "                       min_samples_leaf=0.05)"
      ]
     },
     "execution_count": 13,
     "metadata": {},
     "output_type": "execute_result"
    },
    {
     "data": {
      "text/plain": [
       "DecisionTreeClassifier(criterion='entropy', max_leaf_nodes=5,\n",
       "                       min_samples_leaf=0.05)"
      ]
     },
     "execution_count": 13,
     "metadata": {},
     "output_type": "execute_result"
    },
    {
     "data": {
      "text/plain": [
       "DecisionTreeClassifier(criterion='entropy', max_leaf_nodes=5,\n",
       "                       min_samples_leaf=0.05)"
      ]
     },
     "execution_count": 13,
     "metadata": {},
     "output_type": "execute_result"
    },
    {
     "data": {
      "text/plain": [
       "DecisionTreeClassifier(criterion='entropy', max_leaf_nodes=5,\n",
       "                       min_samples_leaf=0.05)"
      ]
     },
     "execution_count": 13,
     "metadata": {},
     "output_type": "execute_result"
    },
    {
     "data": {
      "text/plain": [
       "DecisionTreeClassifier(criterion='entropy', max_leaf_nodes=5,\n",
       "                       min_samples_leaf=0.05)"
      ]
     },
     "execution_count": 13,
     "metadata": {},
     "output_type": "execute_result"
    },
    {
     "data": {
      "text/html": [
       "<div>\n",
       "<style scoped>\n",
       "    .dataframe tbody tr th:only-of-type {\n",
       "        vertical-align: middle;\n",
       "    }\n",
       "\n",
       "    .dataframe tbody tr th {\n",
       "        vertical-align: top;\n",
       "    }\n",
       "\n",
       "    .dataframe thead th {\n",
       "        text-align: right;\n",
       "    }\n",
       "</style>\n",
       "<table border=\"1\" class=\"dataframe\">\n",
       "  <thead>\n",
       "    <tr style=\"text-align: right;\">\n",
       "      <th></th>\n",
       "      <th>RevolvingUtilizationOfUnsecuredLines</th>\n",
       "      <th>age</th>\n",
       "      <th>NumberOfTime30-59DaysPastDueNotWorse</th>\n",
       "      <th>DebtRatio</th>\n",
       "      <th>MonthlyIncome</th>\n",
       "      <th>NumberOfOpenCreditLinesAndLoans</th>\n",
       "      <th>NumberOfTimes90DaysLate</th>\n",
       "      <th>NumberRealEstateLoansOrLines</th>\n",
       "      <th>NumberOfTime60-89DaysPastDueNotWorse</th>\n",
       "      <th>NumberOfDependents</th>\n",
       "    </tr>\n",
       "  </thead>\n",
       "  <tbody>\n",
       "    <tr>\n",
       "      <th>0</th>\n",
       "      <td>4</td>\n",
       "      <td>3</td>\n",
       "      <td>3</td>\n",
       "      <td>3</td>\n",
       "      <td>5</td>\n",
       "      <td>4</td>\n",
       "      <td>1</td>\n",
       "      <td>4</td>\n",
       "      <td>1</td>\n",
       "      <td>3</td>\n",
       "    </tr>\n",
       "    <tr>\n",
       "      <th>1</th>\n",
       "      <td>5</td>\n",
       "      <td>2</td>\n",
       "      <td>1</td>\n",
       "      <td>1</td>\n",
       "      <td>2</td>\n",
       "      <td>3</td>\n",
       "      <td>1</td>\n",
       "      <td>1</td>\n",
       "      <td>1</td>\n",
       "      <td>2</td>\n",
       "    </tr>\n",
       "    <tr>\n",
       "      <th>2</th>\n",
       "      <td>3</td>\n",
       "      <td>2</td>\n",
       "      <td>2</td>\n",
       "      <td>1</td>\n",
       "      <td>2</td>\n",
       "      <td>1</td>\n",
       "      <td>2</td>\n",
       "      <td>1</td>\n",
       "      <td>1</td>\n",
       "      <td>1</td>\n",
       "    </tr>\n",
       "    <tr>\n",
       "      <th>3</th>\n",
       "      <td>2</td>\n",
       "      <td>1</td>\n",
       "      <td>1</td>\n",
       "      <td>1</td>\n",
       "      <td>2</td>\n",
       "      <td>3</td>\n",
       "      <td>1</td>\n",
       "      <td>1</td>\n",
       "      <td>1</td>\n",
       "      <td>1</td>\n",
       "    </tr>\n",
       "    <tr>\n",
       "      <th>4</th>\n",
       "      <td>5</td>\n",
       "      <td>3</td>\n",
       "      <td>2</td>\n",
       "      <td>1</td>\n",
       "      <td>5</td>\n",
       "      <td>4</td>\n",
       "      <td>1</td>\n",
       "      <td>2</td>\n",
       "      <td>1</td>\n",
       "      <td>1</td>\n",
       "    </tr>\n",
       "  </tbody>\n",
       "</table>\n",
       "</div>"
      ],
      "text/plain": [
       "  RevolvingUtilizationOfUnsecuredLines age  \\\n",
       "0                                    4   3   \n",
       "1                                    5   2   \n",
       "2                                    3   2   \n",
       "3                                    2   1   \n",
       "4                                    5   3   \n",
       "\n",
       "  NumberOfTime30-59DaysPastDueNotWorse DebtRatio MonthlyIncome  \\\n",
       "0                                    3         3             5   \n",
       "1                                    1         1             2   \n",
       "2                                    2         1             2   \n",
       "3                                    1         1             2   \n",
       "4                                    2         1             5   \n",
       "\n",
       "  NumberOfOpenCreditLinesAndLoans NumberOfTimes90DaysLate  \\\n",
       "0                               4                       1   \n",
       "1                               3                       1   \n",
       "2                               1                       2   \n",
       "3                               3                       1   \n",
       "4                               4                       1   \n",
       "\n",
       "  NumberRealEstateLoansOrLines NumberOfTime60-89DaysPastDueNotWorse  \\\n",
       "0                            4                                    1   \n",
       "1                            1                                    1   \n",
       "2                            1                                    1   \n",
       "3                            1                                    1   \n",
       "4                            2                                    1   \n",
       "\n",
       "  NumberOfDependents  \n",
       "0                  3  \n",
       "1                  2  \n",
       "2                  1  \n",
       "3                  1  \n",
       "4                  1  "
      ]
     },
     "execution_count": 13,
     "metadata": {},
     "output_type": "execute_result"
    },
    {
     "data": {
      "text/html": [
       "<div>\n",
       "<style scoped>\n",
       "    .dataframe tbody tr th:only-of-type {\n",
       "        vertical-align: middle;\n",
       "    }\n",
       "\n",
       "    .dataframe tbody tr th {\n",
       "        vertical-align: top;\n",
       "    }\n",
       "\n",
       "    .dataframe thead th {\n",
       "        text-align: right;\n",
       "    }\n",
       "</style>\n",
       "<table border=\"1\" class=\"dataframe\">\n",
       "  <thead>\n",
       "    <tr style=\"text-align: right;\">\n",
       "      <th></th>\n",
       "      <th>RevolvingUtilizationOfUnsecuredLines</th>\n",
       "      <th>age</th>\n",
       "      <th>NumberOfTime30-59DaysPastDueNotWorse</th>\n",
       "      <th>DebtRatio</th>\n",
       "      <th>MonthlyIncome</th>\n",
       "      <th>NumberOfOpenCreditLinesAndLoans</th>\n",
       "      <th>NumberOfTimes90DaysLate</th>\n",
       "      <th>NumberRealEstateLoansOrLines</th>\n",
       "      <th>NumberOfTime60-89DaysPastDueNotWorse</th>\n",
       "      <th>NumberOfDependents</th>\n",
       "    </tr>\n",
       "  </thead>\n",
       "  <tbody>\n",
       "    <tr>\n",
       "      <th>0</th>\n",
       "      <td>5</td>\n",
       "      <td>2</td>\n",
       "      <td>1</td>\n",
       "      <td>1</td>\n",
       "      <td>4</td>\n",
       "      <td>3</td>\n",
       "      <td>1</td>\n",
       "      <td>1</td>\n",
       "      <td>1</td>\n",
       "      <td>1</td>\n",
       "    </tr>\n",
       "    <tr>\n",
       "      <th>1</th>\n",
       "      <td>2</td>\n",
       "      <td>4</td>\n",
       "      <td>1</td>\n",
       "      <td>2</td>\n",
       "      <td>5</td>\n",
       "      <td>5</td>\n",
       "      <td>1</td>\n",
       "      <td>4</td>\n",
       "      <td>1</td>\n",
       "      <td>3</td>\n",
       "    </tr>\n",
       "    <tr>\n",
       "      <th>2</th>\n",
       "      <td>1</td>\n",
       "      <td>4</td>\n",
       "      <td>1</td>\n",
       "      <td>3</td>\n",
       "      <td>4</td>\n",
       "      <td>4</td>\n",
       "      <td>1</td>\n",
       "      <td>2</td>\n",
       "      <td>1</td>\n",
       "      <td>3</td>\n",
       "    </tr>\n",
       "    <tr>\n",
       "      <th>3</th>\n",
       "      <td>2</td>\n",
       "      <td>2</td>\n",
       "      <td>2</td>\n",
       "      <td>3</td>\n",
       "      <td>2</td>\n",
       "      <td>4</td>\n",
       "      <td>1</td>\n",
       "      <td>3</td>\n",
       "      <td>1</td>\n",
       "      <td>1</td>\n",
       "    </tr>\n",
       "    <tr>\n",
       "      <th>4</th>\n",
       "      <td>5</td>\n",
       "      <td>1</td>\n",
       "      <td>1</td>\n",
       "      <td>1</td>\n",
       "      <td>3</td>\n",
       "      <td>3</td>\n",
       "      <td>1</td>\n",
       "      <td>1</td>\n",
       "      <td>1</td>\n",
       "      <td>2</td>\n",
       "    </tr>\n",
       "  </tbody>\n",
       "</table>\n",
       "</div>"
      ],
      "text/plain": [
       "  RevolvingUtilizationOfUnsecuredLines age  \\\n",
       "0                                    5   2   \n",
       "1                                    2   4   \n",
       "2                                    1   4   \n",
       "3                                    2   2   \n",
       "4                                    5   1   \n",
       "\n",
       "  NumberOfTime30-59DaysPastDueNotWorse DebtRatio MonthlyIncome  \\\n",
       "0                                    1         1             4   \n",
       "1                                    1         2             5   \n",
       "2                                    1         3             4   \n",
       "3                                    2         3             2   \n",
       "4                                    1         1             3   \n",
       "\n",
       "  NumberOfOpenCreditLinesAndLoans NumberOfTimes90DaysLate  \\\n",
       "0                               3                       1   \n",
       "1                               5                       1   \n",
       "2                               4                       1   \n",
       "3                               4                       1   \n",
       "4                               3                       1   \n",
       "\n",
       "  NumberRealEstateLoansOrLines NumberOfTime60-89DaysPastDueNotWorse  \\\n",
       "0                            1                                    1   \n",
       "1                            4                                    1   \n",
       "2                            2                                    1   \n",
       "3                            3                                    1   \n",
       "4                            1                                    1   \n",
       "\n",
       "  NumberOfDependents  \n",
       "0                  1  \n",
       "1                  3  \n",
       "2                  3  \n",
       "3                  1  \n",
       "4                  2  "
      ]
     },
     "execution_count": 13,
     "metadata": {},
     "output_type": "execute_result"
    }
   ],
   "source": [
    "train_df_lr = train_df_knn.copy()\n",
    "test_df_lr = test_df_knn.copy()\n",
    "# cut continuous columns into subgroup bins\n",
    "for col in train_df_lr.columns:\n",
    "    clf = DecisionTreeClassifier(criterion='entropy',  # \"Information entropy\" minimization criteria division\n",
    "                            max_leaf_nodes=5, min_samples_leaf=0.05) \n",
    "    clf.fit(train_df_lr[col].values.reshape(-1, 1), train_label.values)\n",
    "    threshold = [-np.inf] + list(np.unique(clf.tree_.threshold)) + [np.inf]\n",
    "    train_df_lr[col] = pd.cut(train_df_lr[col], threshold, labels = list(range(len(threshold)-1)))\n",
    "    test_df_lr[col] = pd.cut(test_df_lr[col], threshold, labels = list(range(len(threshold)-1)))\n",
    "\n",
    "train_df_lr.head()\n",
    "test_df_lr.head()"
   ]
  },
  {
   "cell_type": "markdown",
   "id": "cb1cba46",
   "metadata": {},
   "source": [
    "### Feature Selection\n",
    "Criteria: WOE, IV, L1 paradigm  \n",
    "- WOE: Weight of Evidence. Measure the importance of different bins, which varies in the same direction as the default rate. $$WOE = ln(\\frac{yPctGood}{yPctBad})$$\n",
    "- IV: Information Value. Measure the importance of different variables. $$IV = \\sum_{i=1}^{n}(yPctGood - yPctBad) * ln(\\frac{yPctGood}{yPctBad})$$\n",
    "- L1 paradigm: LASSO regression makes weights sparse, which is equivalent to adding to the model the prior knowledge that $\\beta$ obeys a zero-mean Laplace distribution  "
   ]
  },
  {
   "cell_type": "code",
   "execution_count": 14,
   "id": "91025655",
   "metadata": {},
   "outputs": [],
   "source": [
    "def cal_woe_iv(df, col, target):\n",
    "    woe_iv = df.groupby(col)[target].agg([('value1', lambda target: (target == 1).sum()),\n",
    "                                         ('value0', lambda target: (target == 0).sum()),\n",
    "                                         ('value_all', 'count')]).reset_index()\n",
    "    woe_iv['pct1'] = woe_iv['value1'] / woe_iv['value1'].sum()\n",
    "    woe_iv['pct0'] = woe_iv['value0'] / woe_iv['value0'].sum()\n",
    "    woe_iv['pct_all'] = woe_iv['value_all'] / woe_iv['value_all'].sum()\n",
    "    woe_iv['woe'] = np.log(woe_iv['pct1']/woe_iv['pct0'])\n",
    "    woe_iv['iv'] = (woe_iv['pct1'] - woe_iv['pct0']) * woe_iv['woe']\n",
    "    woe_iv.replace([-np.inf, np.inf], [0, 0], inplace=True)\n",
    "    return woe_iv"
   ]
  },
  {
   "cell_type": "code",
   "execution_count": 15,
   "id": "f148a5e1",
   "metadata": {},
   "outputs": [
    {
     "data": {
      "text/html": [
       "<div>\n",
       "<style scoped>\n",
       "    .dataframe tbody tr th:only-of-type {\n",
       "        vertical-align: middle;\n",
       "    }\n",
       "\n",
       "    .dataframe tbody tr th {\n",
       "        vertical-align: top;\n",
       "    }\n",
       "\n",
       "    .dataframe thead th {\n",
       "        text-align: right;\n",
       "    }\n",
       "</style>\n",
       "<table border=\"1\" class=\"dataframe\">\n",
       "  <thead>\n",
       "    <tr style=\"text-align: right;\">\n",
       "      <th></th>\n",
       "      <th>RevolvingUtilizationOfUnsecuredLines</th>\n",
       "      <th>age</th>\n",
       "      <th>NumberOfTime30-59DaysPastDueNotWorse</th>\n",
       "      <th>DebtRatio</th>\n",
       "      <th>MonthlyIncome</th>\n",
       "      <th>NumberOfOpenCreditLinesAndLoans</th>\n",
       "      <th>NumberOfTimes90DaysLate</th>\n",
       "      <th>NumberRealEstateLoansOrLines</th>\n",
       "      <th>NumberOfTime60-89DaysPastDueNotWorse</th>\n",
       "      <th>NumberOfDependents</th>\n",
       "    </tr>\n",
       "  </thead>\n",
       "  <tbody>\n",
       "    <tr>\n",
       "      <th>0</th>\n",
       "      <td>0.824361</td>\n",
       "      <td>0.140607</td>\n",
       "      <td>1.901126</td>\n",
       "      <td>0.596973</td>\n",
       "      <td>-0.339241</td>\n",
       "      <td>-0.186412</td>\n",
       "      <td>-0.389724</td>\n",
       "      <td>0.253629</td>\n",
       "      <td>-0.288208</td>\n",
       "      <td>0.209194</td>\n",
       "    </tr>\n",
       "    <tr>\n",
       "      <th>1</th>\n",
       "      <td>1.365899</td>\n",
       "      <td>0.326797</td>\n",
       "      <td>-0.541721</td>\n",
       "      <td>-0.135013</td>\n",
       "      <td>0.417757</td>\n",
       "      <td>-0.052295</td>\n",
       "      <td>-0.389724</td>\n",
       "      <td>0.235970</td>\n",
       "      <td>-0.288208</td>\n",
       "      <td>0.103025</td>\n",
       "    </tr>\n",
       "    <tr>\n",
       "      <th>2</th>\n",
       "      <td>0.380305</td>\n",
       "      <td>0.326797</td>\n",
       "      <td>0.903654</td>\n",
       "      <td>-0.135013</td>\n",
       "      <td>0.417757</td>\n",
       "      <td>0.727837</td>\n",
       "      <td>2.298734</td>\n",
       "      <td>0.235970</td>\n",
       "      <td>-0.288208</td>\n",
       "      <td>-0.151343</td>\n",
       "    </tr>\n",
       "    <tr>\n",
       "      <th>3</th>\n",
       "      <td>-0.287103</td>\n",
       "      <td>0.546753</td>\n",
       "      <td>-0.541721</td>\n",
       "      <td>-0.135013</td>\n",
       "      <td>0.417757</td>\n",
       "      <td>-0.052295</td>\n",
       "      <td>-0.389724</td>\n",
       "      <td>0.235970</td>\n",
       "      <td>-0.288208</td>\n",
       "      <td>-0.151343</td>\n",
       "    </tr>\n",
       "    <tr>\n",
       "      <th>4</th>\n",
       "      <td>1.365899</td>\n",
       "      <td>0.140607</td>\n",
       "      <td>0.903654</td>\n",
       "      <td>-0.135013</td>\n",
       "      <td>-0.339241</td>\n",
       "      <td>-0.186412</td>\n",
       "      <td>-0.389724</td>\n",
       "      <td>-0.256641</td>\n",
       "      <td>-0.288208</td>\n",
       "      <td>-0.151343</td>\n",
       "    </tr>\n",
       "  </tbody>\n",
       "</table>\n",
       "</div>"
      ],
      "text/plain": [
       "   RevolvingUtilizationOfUnsecuredLines       age  \\\n",
       "0                              0.824361  0.140607   \n",
       "1                              1.365899  0.326797   \n",
       "2                              0.380305  0.326797   \n",
       "3                             -0.287103  0.546753   \n",
       "4                              1.365899  0.140607   \n",
       "\n",
       "   NumberOfTime30-59DaysPastDueNotWorse  DebtRatio  MonthlyIncome  \\\n",
       "0                              1.901126   0.596973      -0.339241   \n",
       "1                             -0.541721  -0.135013       0.417757   \n",
       "2                              0.903654  -0.135013       0.417757   \n",
       "3                             -0.541721  -0.135013       0.417757   \n",
       "4                              0.903654  -0.135013      -0.339241   \n",
       "\n",
       "   NumberOfOpenCreditLinesAndLoans  NumberOfTimes90DaysLate  \\\n",
       "0                        -0.186412                -0.389724   \n",
       "1                        -0.052295                -0.389724   \n",
       "2                         0.727837                 2.298734   \n",
       "3                        -0.052295                -0.389724   \n",
       "4                        -0.186412                -0.389724   \n",
       "\n",
       "   NumberRealEstateLoansOrLines  NumberOfTime60-89DaysPastDueNotWorse  \\\n",
       "0                      0.253629                             -0.288208   \n",
       "1                      0.235970                             -0.288208   \n",
       "2                      0.235970                             -0.288208   \n",
       "3                      0.235970                             -0.288208   \n",
       "4                     -0.256641                             -0.288208   \n",
       "\n",
       "   NumberOfDependents  \n",
       "0            0.209194  \n",
       "1            0.103025  \n",
       "2           -0.151343  \n",
       "3           -0.151343  \n",
       "4           -0.151343  "
      ]
     },
     "execution_count": 15,
     "metadata": {},
     "output_type": "execute_result"
    },
    {
     "data": {
      "text/html": [
       "<div>\n",
       "<style scoped>\n",
       "    .dataframe tbody tr th:only-of-type {\n",
       "        vertical-align: middle;\n",
       "    }\n",
       "\n",
       "    .dataframe tbody tr th {\n",
       "        vertical-align: top;\n",
       "    }\n",
       "\n",
       "    .dataframe thead th {\n",
       "        text-align: right;\n",
       "    }\n",
       "</style>\n",
       "<table border=\"1\" class=\"dataframe\">\n",
       "  <thead>\n",
       "    <tr style=\"text-align: right;\">\n",
       "      <th></th>\n",
       "      <th>RevolvingUtilizationOfUnsecuredLines</th>\n",
       "      <th>age</th>\n",
       "      <th>NumberOfTime30-59DaysPastDueNotWorse</th>\n",
       "      <th>DebtRatio</th>\n",
       "      <th>MonthlyIncome</th>\n",
       "      <th>NumberOfOpenCreditLinesAndLoans</th>\n",
       "      <th>NumberOfTimes90DaysLate</th>\n",
       "      <th>NumberRealEstateLoansOrLines</th>\n",
       "      <th>NumberOfTime60-89DaysPastDueNotWorse</th>\n",
       "      <th>NumberOfDependents</th>\n",
       "    </tr>\n",
       "  </thead>\n",
       "  <tbody>\n",
       "    <tr>\n",
       "      <th>0</th>\n",
       "      <td>1.365899</td>\n",
       "      <td>0.326797</td>\n",
       "      <td>-0.541721</td>\n",
       "      <td>-0.135013</td>\n",
       "      <td>0.009782</td>\n",
       "      <td>-0.052295</td>\n",
       "      <td>-0.389724</td>\n",
       "      <td>0.235970</td>\n",
       "      <td>-0.288208</td>\n",
       "      <td>-0.151343</td>\n",
       "    </tr>\n",
       "    <tr>\n",
       "      <th>1</th>\n",
       "      <td>-0.287103</td>\n",
       "      <td>-0.341036</td>\n",
       "      <td>-0.541721</td>\n",
       "      <td>0.215238</td>\n",
       "      <td>-0.339241</td>\n",
       "      <td>0.046659</td>\n",
       "      <td>-0.389724</td>\n",
       "      <td>0.253629</td>\n",
       "      <td>-0.288208</td>\n",
       "      <td>0.209194</td>\n",
       "    </tr>\n",
       "    <tr>\n",
       "      <th>2</th>\n",
       "      <td>-1.235729</td>\n",
       "      <td>-0.341036</td>\n",
       "      <td>-0.541721</td>\n",
       "      <td>0.596973</td>\n",
       "      <td>0.009782</td>\n",
       "      <td>-0.186412</td>\n",
       "      <td>-0.389724</td>\n",
       "      <td>-0.256641</td>\n",
       "      <td>-0.288208</td>\n",
       "      <td>0.209194</td>\n",
       "    </tr>\n",
       "    <tr>\n",
       "      <th>3</th>\n",
       "      <td>-0.287103</td>\n",
       "      <td>0.326797</td>\n",
       "      <td>0.903654</td>\n",
       "      <td>0.596973</td>\n",
       "      <td>0.417757</td>\n",
       "      <td>-0.186412</td>\n",
       "      <td>-0.389724</td>\n",
       "      <td>-0.188639</td>\n",
       "      <td>-0.288208</td>\n",
       "      <td>-0.151343</td>\n",
       "    </tr>\n",
       "    <tr>\n",
       "      <th>4</th>\n",
       "      <td>1.365899</td>\n",
       "      <td>0.546753</td>\n",
       "      <td>-0.541721</td>\n",
       "      <td>-0.135013</td>\n",
       "      <td>0.213538</td>\n",
       "      <td>-0.052295</td>\n",
       "      <td>-0.389724</td>\n",
       "      <td>0.235970</td>\n",
       "      <td>-0.288208</td>\n",
       "      <td>0.103025</td>\n",
       "    </tr>\n",
       "  </tbody>\n",
       "</table>\n",
       "</div>"
      ],
      "text/plain": [
       "   RevolvingUtilizationOfUnsecuredLines       age  \\\n",
       "0                              1.365899  0.326797   \n",
       "1                             -0.287103 -0.341036   \n",
       "2                             -1.235729 -0.341036   \n",
       "3                             -0.287103  0.326797   \n",
       "4                              1.365899  0.546753   \n",
       "\n",
       "   NumberOfTime30-59DaysPastDueNotWorse  DebtRatio  MonthlyIncome  \\\n",
       "0                             -0.541721  -0.135013       0.009782   \n",
       "1                             -0.541721   0.215238      -0.339241   \n",
       "2                             -0.541721   0.596973       0.009782   \n",
       "3                              0.903654   0.596973       0.417757   \n",
       "4                             -0.541721  -0.135013       0.213538   \n",
       "\n",
       "   NumberOfOpenCreditLinesAndLoans  NumberOfTimes90DaysLate  \\\n",
       "0                        -0.052295                -0.389724   \n",
       "1                         0.046659                -0.389724   \n",
       "2                        -0.186412                -0.389724   \n",
       "3                        -0.186412                -0.389724   \n",
       "4                        -0.052295                -0.389724   \n",
       "\n",
       "   NumberRealEstateLoansOrLines  NumberOfTime60-89DaysPastDueNotWorse  \\\n",
       "0                      0.235970                             -0.288208   \n",
       "1                      0.253629                             -0.288208   \n",
       "2                     -0.256641                             -0.288208   \n",
       "3                     -0.188639                             -0.288208   \n",
       "4                      0.235970                             -0.288208   \n",
       "\n",
       "   NumberOfDependents  \n",
       "0           -0.151343  \n",
       "1            0.209194  \n",
       "2            0.209194  \n",
       "3           -0.151343  \n",
       "4            0.103025  "
      ]
     },
     "execution_count": 15,
     "metadata": {},
     "output_type": "execute_result"
    },
    {
     "data": {
      "text/plain": [
       "{'RevolvingUtilizationOfUnsecuredLines': 1.0851335647920908,\n",
       " 'age': 0.25364884729284476,\n",
       " 'NumberOfTime30-59DaysPastDueNotWorse': 0.7404812872794013,\n",
       " 'DebtRatio': 0.07290155816176616,\n",
       " 'MonthlyIncome': 0.08201219133171293,\n",
       " 'NumberOfOpenCreditLinesAndLoans': 0.0821964730110172,\n",
       " 'NumberOfTimes90DaysLate': 0.8375513427285136,\n",
       " 'NumberRealEstateLoansOrLines': 0.05535386543277276,\n",
       " 'NumberOfTime60-89DaysPastDueNotWorse': 0.5723728876090994,\n",
       " 'NumberOfDependents': 0.034077187999285365}"
      ]
     },
     "execution_count": 15,
     "metadata": {},
     "output_type": "execute_result"
    }
   ],
   "source": [
    "# calculate iv value and transform woe\n",
    "train_df_lr['SeriousDlqin2yrs'] = train_label\n",
    "woe_df = pd.DataFrame()\n",
    "woe_df_test = pd.DataFrame()\n",
    "train_df_iv = dict()\n",
    "for col in train_df_lr.columns[:-1]:\n",
    "    temp = cal_woe_iv(train_df_lr, col, 'SeriousDlqin2yrs')\n",
    "    train_df_iv[col] = temp['iv'].sum()\n",
    "    woe_df[col] = train_df_lr[col].replace(list(temp[col]), list(temp['woe']))\n",
    "    woe_df_test[col] = test_df_lr[col].replace(list(temp[col]), list(temp['woe']))\n",
    "woe_df.head()\n",
    "woe_df_test.head()\n",
    "train_df_iv"
   ]
  },
  {
   "cell_type": "code",
   "execution_count": 16,
   "id": "4dcd59f3",
   "metadata": {},
   "outputs": [
    {
     "data": {
      "text/html": [
       "<div>\n",
       "<style scoped>\n",
       "    .dataframe tbody tr th:only-of-type {\n",
       "        vertical-align: middle;\n",
       "    }\n",
       "\n",
       "    .dataframe tbody tr th {\n",
       "        vertical-align: top;\n",
       "    }\n",
       "\n",
       "    .dataframe thead th {\n",
       "        text-align: right;\n",
       "    }\n",
       "</style>\n",
       "<table border=\"1\" class=\"dataframe\">\n",
       "  <thead>\n",
       "    <tr style=\"text-align: right;\">\n",
       "      <th></th>\n",
       "      <th>RevolvingUtilizationOfUnsecuredLines</th>\n",
       "      <th>age</th>\n",
       "      <th>NumberOfTime30-59DaysPastDueNotWorse</th>\n",
       "      <th>DebtRatio</th>\n",
       "      <th>MonthlyIncome</th>\n",
       "      <th>NumberOfOpenCreditLinesAndLoans</th>\n",
       "      <th>NumberOfTimes90DaysLate</th>\n",
       "      <th>NumberRealEstateLoansOrLines</th>\n",
       "      <th>NumberOfTime60-89DaysPastDueNotWorse</th>\n",
       "      <th>NumberOfDependents</th>\n",
       "    </tr>\n",
       "  </thead>\n",
       "  <tbody>\n",
       "    <tr>\n",
       "      <th>RevolvingUtilizationOfUnsecuredLines</th>\n",
       "      <td>1.000000</td>\n",
       "      <td>0.255591</td>\n",
       "      <td>0.257471</td>\n",
       "      <td>0.124868</td>\n",
       "      <td>0.118823</td>\n",
       "      <td>0.231945</td>\n",
       "      <td>0.278013</td>\n",
       "      <td>0.097176</td>\n",
       "      <td>0.213635</td>\n",
       "      <td>0.090673</td>\n",
       "    </tr>\n",
       "    <tr>\n",
       "      <th>age</th>\n",
       "      <td>0.255591</td>\n",
       "      <td>1.000000</td>\n",
       "      <td>0.101315</td>\n",
       "      <td>0.062137</td>\n",
       "      <td>0.054445</td>\n",
       "      <td>0.064334</td>\n",
       "      <td>0.098874</td>\n",
       "      <td>0.015670</td>\n",
       "      <td>0.084216</td>\n",
       "      <td>0.267137</td>\n",
       "    </tr>\n",
       "    <tr>\n",
       "      <th>NumberOfTime30-59DaysPastDueNotWorse</th>\n",
       "      <td>0.257471</td>\n",
       "      <td>0.101315</td>\n",
       "      <td>1.000000</td>\n",
       "      <td>0.071866</td>\n",
       "      <td>0.031884</td>\n",
       "      <td>-0.014532</td>\n",
       "      <td>0.267182</td>\n",
       "      <td>0.000903</td>\n",
       "      <td>0.298600</td>\n",
       "      <td>0.072449</td>\n",
       "    </tr>\n",
       "    <tr>\n",
       "      <th>DebtRatio</th>\n",
       "      <td>0.124868</td>\n",
       "      <td>0.062137</td>\n",
       "      <td>0.071866</td>\n",
       "      <td>1.000000</td>\n",
       "      <td>0.256708</td>\n",
       "      <td>-0.075140</td>\n",
       "      <td>0.003831</td>\n",
       "      <td>-0.081765</td>\n",
       "      <td>0.027843</td>\n",
       "      <td>0.084889</td>\n",
       "    </tr>\n",
       "    <tr>\n",
       "      <th>MonthlyIncome</th>\n",
       "      <td>0.118823</td>\n",
       "      <td>0.054445</td>\n",
       "      <td>0.031884</td>\n",
       "      <td>0.256708</td>\n",
       "      <td>1.000000</td>\n",
       "      <td>0.135291</td>\n",
       "      <td>0.084295</td>\n",
       "      <td>0.175574</td>\n",
       "      <td>0.056760</td>\n",
       "      <td>-0.110611</td>\n",
       "    </tr>\n",
       "    <tr>\n",
       "      <th>NumberOfOpenCreditLinesAndLoans</th>\n",
       "      <td>0.231945</td>\n",
       "      <td>0.064334</td>\n",
       "      <td>-0.014532</td>\n",
       "      <td>-0.075140</td>\n",
       "      <td>0.135291</td>\n",
       "      <td>1.000000</td>\n",
       "      <td>0.157573</td>\n",
       "      <td>0.292281</td>\n",
       "      <td>0.054462</td>\n",
       "      <td>-0.094454</td>\n",
       "    </tr>\n",
       "    <tr>\n",
       "      <th>NumberOfTimes90DaysLate</th>\n",
       "      <td>0.278013</td>\n",
       "      <td>0.098874</td>\n",
       "      <td>0.267182</td>\n",
       "      <td>0.003831</td>\n",
       "      <td>0.084295</td>\n",
       "      <td>0.157573</td>\n",
       "      <td>1.000000</td>\n",
       "      <td>0.081161</td>\n",
       "      <td>0.314391</td>\n",
       "      <td>0.030687</td>\n",
       "    </tr>\n",
       "    <tr>\n",
       "      <th>NumberRealEstateLoansOrLines</th>\n",
       "      <td>0.097176</td>\n",
       "      <td>0.015670</td>\n",
       "      <td>0.000903</td>\n",
       "      <td>-0.081765</td>\n",
       "      <td>0.175574</td>\n",
       "      <td>0.292281</td>\n",
       "      <td>0.081161</td>\n",
       "      <td>1.000000</td>\n",
       "      <td>0.036150</td>\n",
       "      <td>-0.120855</td>\n",
       "    </tr>\n",
       "    <tr>\n",
       "      <th>NumberOfTime60-89DaysPastDueNotWorse</th>\n",
       "      <td>0.213635</td>\n",
       "      <td>0.084216</td>\n",
       "      <td>0.298600</td>\n",
       "      <td>0.027843</td>\n",
       "      <td>0.056760</td>\n",
       "      <td>0.054462</td>\n",
       "      <td>0.314391</td>\n",
       "      <td>0.036150</td>\n",
       "      <td>1.000000</td>\n",
       "      <td>0.035996</td>\n",
       "    </tr>\n",
       "    <tr>\n",
       "      <th>NumberOfDependents</th>\n",
       "      <td>0.090673</td>\n",
       "      <td>0.267137</td>\n",
       "      <td>0.072449</td>\n",
       "      <td>0.084889</td>\n",
       "      <td>-0.110611</td>\n",
       "      <td>-0.094454</td>\n",
       "      <td>0.030687</td>\n",
       "      <td>-0.120855</td>\n",
       "      <td>0.035996</td>\n",
       "      <td>1.000000</td>\n",
       "    </tr>\n",
       "  </tbody>\n",
       "</table>\n",
       "</div>"
      ],
      "text/plain": [
       "                                      RevolvingUtilizationOfUnsecuredLines  \\\n",
       "RevolvingUtilizationOfUnsecuredLines                              1.000000   \n",
       "age                                                               0.255591   \n",
       "NumberOfTime30-59DaysPastDueNotWorse                              0.257471   \n",
       "DebtRatio                                                         0.124868   \n",
       "MonthlyIncome                                                     0.118823   \n",
       "NumberOfOpenCreditLinesAndLoans                                   0.231945   \n",
       "NumberOfTimes90DaysLate                                           0.278013   \n",
       "NumberRealEstateLoansOrLines                                      0.097176   \n",
       "NumberOfTime60-89DaysPastDueNotWorse                              0.213635   \n",
       "NumberOfDependents                                                0.090673   \n",
       "\n",
       "                                           age  \\\n",
       "RevolvingUtilizationOfUnsecuredLines  0.255591   \n",
       "age                                   1.000000   \n",
       "NumberOfTime30-59DaysPastDueNotWorse  0.101315   \n",
       "DebtRatio                             0.062137   \n",
       "MonthlyIncome                         0.054445   \n",
       "NumberOfOpenCreditLinesAndLoans       0.064334   \n",
       "NumberOfTimes90DaysLate               0.098874   \n",
       "NumberRealEstateLoansOrLines          0.015670   \n",
       "NumberOfTime60-89DaysPastDueNotWorse  0.084216   \n",
       "NumberOfDependents                    0.267137   \n",
       "\n",
       "                                      NumberOfTime30-59DaysPastDueNotWorse  \\\n",
       "RevolvingUtilizationOfUnsecuredLines                              0.257471   \n",
       "age                                                               0.101315   \n",
       "NumberOfTime30-59DaysPastDueNotWorse                              1.000000   \n",
       "DebtRatio                                                         0.071866   \n",
       "MonthlyIncome                                                     0.031884   \n",
       "NumberOfOpenCreditLinesAndLoans                                  -0.014532   \n",
       "NumberOfTimes90DaysLate                                           0.267182   \n",
       "NumberRealEstateLoansOrLines                                      0.000903   \n",
       "NumberOfTime60-89DaysPastDueNotWorse                              0.298600   \n",
       "NumberOfDependents                                                0.072449   \n",
       "\n",
       "                                      DebtRatio  MonthlyIncome  \\\n",
       "RevolvingUtilizationOfUnsecuredLines   0.124868       0.118823   \n",
       "age                                    0.062137       0.054445   \n",
       "NumberOfTime30-59DaysPastDueNotWorse   0.071866       0.031884   \n",
       "DebtRatio                              1.000000       0.256708   \n",
       "MonthlyIncome                          0.256708       1.000000   \n",
       "NumberOfOpenCreditLinesAndLoans       -0.075140       0.135291   \n",
       "NumberOfTimes90DaysLate                0.003831       0.084295   \n",
       "NumberRealEstateLoansOrLines          -0.081765       0.175574   \n",
       "NumberOfTime60-89DaysPastDueNotWorse   0.027843       0.056760   \n",
       "NumberOfDependents                     0.084889      -0.110611   \n",
       "\n",
       "                                      NumberOfOpenCreditLinesAndLoans  \\\n",
       "RevolvingUtilizationOfUnsecuredLines                         0.231945   \n",
       "age                                                          0.064334   \n",
       "NumberOfTime30-59DaysPastDueNotWorse                        -0.014532   \n",
       "DebtRatio                                                   -0.075140   \n",
       "MonthlyIncome                                                0.135291   \n",
       "NumberOfOpenCreditLinesAndLoans                              1.000000   \n",
       "NumberOfTimes90DaysLate                                      0.157573   \n",
       "NumberRealEstateLoansOrLines                                 0.292281   \n",
       "NumberOfTime60-89DaysPastDueNotWorse                         0.054462   \n",
       "NumberOfDependents                                          -0.094454   \n",
       "\n",
       "                                      NumberOfTimes90DaysLate  \\\n",
       "RevolvingUtilizationOfUnsecuredLines                 0.278013   \n",
       "age                                                  0.098874   \n",
       "NumberOfTime30-59DaysPastDueNotWorse                 0.267182   \n",
       "DebtRatio                                            0.003831   \n",
       "MonthlyIncome                                        0.084295   \n",
       "NumberOfOpenCreditLinesAndLoans                      0.157573   \n",
       "NumberOfTimes90DaysLate                              1.000000   \n",
       "NumberRealEstateLoansOrLines                         0.081161   \n",
       "NumberOfTime60-89DaysPastDueNotWorse                 0.314391   \n",
       "NumberOfDependents                                   0.030687   \n",
       "\n",
       "                                      NumberRealEstateLoansOrLines  \\\n",
       "RevolvingUtilizationOfUnsecuredLines                      0.097176   \n",
       "age                                                       0.015670   \n",
       "NumberOfTime30-59DaysPastDueNotWorse                      0.000903   \n",
       "DebtRatio                                                -0.081765   \n",
       "MonthlyIncome                                             0.175574   \n",
       "NumberOfOpenCreditLinesAndLoans                           0.292281   \n",
       "NumberOfTimes90DaysLate                                   0.081161   \n",
       "NumberRealEstateLoansOrLines                              1.000000   \n",
       "NumberOfTime60-89DaysPastDueNotWorse                      0.036150   \n",
       "NumberOfDependents                                       -0.120855   \n",
       "\n",
       "                                      NumberOfTime60-89DaysPastDueNotWorse  \\\n",
       "RevolvingUtilizationOfUnsecuredLines                              0.213635   \n",
       "age                                                               0.084216   \n",
       "NumberOfTime30-59DaysPastDueNotWorse                              0.298600   \n",
       "DebtRatio                                                         0.027843   \n",
       "MonthlyIncome                                                     0.056760   \n",
       "NumberOfOpenCreditLinesAndLoans                                   0.054462   \n",
       "NumberOfTimes90DaysLate                                           0.314391   \n",
       "NumberRealEstateLoansOrLines                                      0.036150   \n",
       "NumberOfTime60-89DaysPastDueNotWorse                              1.000000   \n",
       "NumberOfDependents                                                0.035996   \n",
       "\n",
       "                                      NumberOfDependents  \n",
       "RevolvingUtilizationOfUnsecuredLines            0.090673  \n",
       "age                                             0.267137  \n",
       "NumberOfTime30-59DaysPastDueNotWorse            0.072449  \n",
       "DebtRatio                                       0.084889  \n",
       "MonthlyIncome                                  -0.110611  \n",
       "NumberOfOpenCreditLinesAndLoans                -0.094454  \n",
       "NumberOfTimes90DaysLate                         0.030687  \n",
       "NumberRealEstateLoansOrLines                   -0.120855  \n",
       "NumberOfTime60-89DaysPastDueNotWorse            0.035996  \n",
       "NumberOfDependents                              1.000000  "
      ]
     },
     "execution_count": 16,
     "metadata": {},
     "output_type": "execute_result"
    },
    {
     "data": {
      "text/plain": [
       "array([0.31439127])"
      ]
     },
     "execution_count": 16,
     "metadata": {},
     "output_type": "execute_result"
    }
   ],
   "source": [
    "# No over-correlated variables\n",
    "woe_cor_df = woe_df.corr()\n",
    "woe_cor_df\n",
    "max([x for x in woe_cor_df.values.reshape(-1, 1) if x != 1])"
   ]
  },
  {
   "cell_type": "code",
   "execution_count": 17,
   "id": "78188795",
   "metadata": {},
   "outputs": [
    {
     "data": {
      "text/plain": [
       "['RevolvingUtilizationOfUnsecuredLines',\n",
       " 'age',\n",
       " 'NumberOfTime30-59DaysPastDueNotWorse',\n",
       " 'DebtRatio',\n",
       " 'MonthlyIncome',\n",
       " 'NumberOfOpenCreditLinesAndLoans',\n",
       " 'NumberOfTimes90DaysLate',\n",
       " 'NumberRealEstateLoansOrLines',\n",
       " 'NumberOfTime60-89DaysPastDueNotWorse']"
      ]
     },
     "execution_count": 17,
     "metadata": {},
     "output_type": "execute_result"
    },
    {
     "data": {
      "text/plain": [
       "array([0.61859937, 0.39971369, 0.51820601, 0.64434035, 0.02436674,\n",
       "       0.        , 0.52937566, 0.24349096, 0.39275446])"
      ]
     },
     "execution_count": 17,
     "metadata": {},
     "output_type": "execute_result"
    },
    {
     "data": {
      "text/plain": [
       "['RevolvingUtilizationOfUnsecuredLines',\n",
       " 'age',\n",
       " 'NumberOfTime30-59DaysPastDueNotWorse',\n",
       " 'DebtRatio',\n",
       " 'MonthlyIncome',\n",
       " 'NumberOfTimes90DaysLate',\n",
       " 'NumberRealEstateLoansOrLines',\n",
       " 'NumberOfTime60-89DaysPastDueNotWorse']"
      ]
     },
     "execution_count": 17,
     "metadata": {},
     "output_type": "execute_result"
    }
   ],
   "source": [
    "# remove those variables whose iv are smaller than 0.05\n",
    "col_selection = [col for col in train_df_lr.columns[:-1] if train_df_iv[col] > 0.05]\n",
    "col_selection\n",
    "# use L1 paradigm to select variables\n",
    "lr = linear_model.LogisticRegression(C = 0.01, penalty = 'l1', solver='liblinear').fit(woe_df[col_selection], train_label)\n",
    "lr.coef_[0]\n",
    "col_selection = [col_selection[i] for i in range(len(col_selection)) if lr.coef_[0][i] != 0]\n",
    "col_selection"
   ]
  },
  {
   "cell_type": "markdown",
   "id": "af4965c4",
   "metadata": {},
   "source": [
    "### Model Training"
   ]
  },
  {
   "cell_type": "code",
   "execution_count": 18,
   "id": "2723a89b",
   "metadata": {},
   "outputs": [],
   "source": [
    "train_x, valid_x, train_y, valid_y = train_test_split(train_df_lr[col_selection], train_df_lr['SeriousDlqin2yrs'], test_size = 0.25, random_state = 2021)"
   ]
  },
  {
   "cell_type": "code",
   "execution_count": 19,
   "id": "49d6fc38",
   "metadata": {},
   "outputs": [
    {
     "data": {
      "text/plain": [
       "LogisticRegression(class_weight='balanced', solver='liblinear')"
      ]
     },
     "execution_count": 19,
     "metadata": {},
     "output_type": "execute_result"
    },
    {
     "data": {
      "text/plain": [
       "array([-5.26492667])"
      ]
     },
     "execution_count": 19,
     "metadata": {},
     "output_type": "execute_result"
    },
    {
     "data": {
      "text/plain": [
       "array([[ 0.44726308, -0.2073481 ,  0.83031289,  0.01167078, -0.03019888,\n",
       "         1.6833529 ,  0.16785185,  1.17279141]])"
      ]
     },
     "execution_count": 19,
     "metadata": {},
     "output_type": "execute_result"
    },
    {
     "data": {
      "text/plain": [
       "array([0.65358473, 0.19950484, 0.28213298, ..., 0.24570507, 0.72754619,\n",
       "       0.53114154])"
      ]
     },
     "execution_count": 19,
     "metadata": {},
     "output_type": "execute_result"
    },
    {
     "name": "stdout",
     "output_type": "stream",
     "text": [
      "AUC = 0.8538002694716268\n",
      "KS = 0.55\n"
     ]
    },
    {
     "data": {
      "image/png": "[encoded data removed]",
      "text/plain": [
       "<Figure size 432x288 with 1 Axes>"
      ]
     },
     "metadata": {
      "needs_background": "light"
     },
     "output_type": "display_data"
    }
   ],
   "source": [
    "def plot_roc_curve(fpr, tpr):\n",
    "    plt.plot(fpr, tpr)\n",
    "    plt.plot([0,1],[0,1], \"k--\")\n",
    "    plt.xlabel('fpr')\n",
    "    plt.ylabel('tpr')\n",
    "\n",
    "lr = linear_model.LogisticRegression(solver=\"liblinear\",class_weight=\"balanced\")\n",
    "lr.fit(train_x, train_y)\n",
    "\n",
    "lr.intercept_\n",
    "lr.coef_\n",
    "\n",
    "lr_predict =  lr.predict_proba(valid_x)[:,1]\n",
    "lr_predict\n",
    "\n",
    "fpr, tpr, thresh_lr = roc_curve(valid_y, lr_predict)\n",
    "plot_roc_curve(fpr,tpr)\n",
    "print('AUC = {}'.format(roc_auc_score(valid_y, lr_predict)))\n",
    "print('KS = {}'.format(round((tpr-fpr).max(),2)))"
   ]
  },
  {
   "cell_type": "markdown",
   "id": "b0e827d2",
   "metadata": {},
   "source": [
    "# Submission"
   ]
  },
  {
   "cell_type": "code",
   "execution_count": 20,
   "id": "275dc365",
   "metadata": {},
   "outputs": [],
   "source": [
    "submit = pd.read_csv('sampleEntry.csv') \n",
    "submit['Probability'] = lr.predict_proba(test_df_lr[col_selection])[:,1]\n",
    "submit.to_csv('submit.csv',index=False)"
   ]
  },
  {
   "cell_type": "code",
   "execution_count": 21,
   "id": "72a7b6e6",
   "metadata": {},
   "outputs": [
    {
     "data": {
      "text/html": [
       "<div>\n",
       "<style scoped>\n",
       "    .dataframe tbody tr th:only-of-type {\n",
       "        vertical-align: middle;\n",
       "    }\n",
       "\n",
       "    .dataframe tbody tr th {\n",
       "        vertical-align: top;\n",
       "    }\n",
       "\n",
       "    .dataframe thead th {\n",
       "        text-align: right;\n",
       "    }\n",
       "</style>\n",
       "<table border=\"1\" class=\"dataframe\">\n",
       "  <thead>\n",
       "    <tr style=\"text-align: right;\">\n",
       "      <th></th>\n",
       "      <th>Id</th>\n",
       "      <th>Probability</th>\n",
       "    </tr>\n",
       "  </thead>\n",
       "  <tbody>\n",
       "    <tr>\n",
       "      <th>0</th>\n",
       "      <td>1</td>\n",
       "      <td>0.574901</td>\n",
       "    </tr>\n",
       "    <tr>\n",
       "      <th>1</th>\n",
       "      <td>2</td>\n",
       "      <td>0.274964</td>\n",
       "    </tr>\n",
       "    <tr>\n",
       "      <th>2</th>\n",
       "      <td>3</td>\n",
       "      <td>0.153076</td>\n",
       "    </tr>\n",
       "    <tr>\n",
       "      <th>3</th>\n",
       "      <td>4</td>\n",
       "      <td>0.552269</td>\n",
       "    </tr>\n",
       "    <tr>\n",
       "      <th>4</th>\n",
       "      <td>5</td>\n",
       "      <td>0.631678</td>\n",
       "    </tr>\n",
       "  </tbody>\n",
       "</table>\n",
       "</div>"
      ],
      "text/plain": [
       "   Id  Probability\n",
       "0   1     0.574901\n",
       "1   2     0.274964\n",
       "2   3     0.153076\n",
       "3   4     0.552269\n",
       "4   5     0.631678"
      ]
     },
     "execution_count": 21,
     "metadata": {},
     "output_type": "execute_result"
    }
   ],
   "source": [
    "submit.head()"
   ]
  },
  {
   "cell_type": "markdown",
   "id": "ed9b64cd",
   "metadata": {},
   "source": [
    "# Credit Scoring Card\n",
    "To determine the score, we need to derive the values of \"offset\" and \"factor\" as $$Score = offset + factor * ln(odds).$$ For example, if we assume the score is 800 when odds equals to 50 and the pdo(points to double the odds) is 45, we can solve the problems through two equations $$800 = offset + factor * ln(50)$$ $$800 + 45 = offset + factor * ln(2*50).$$"
   ]
  },
  {
   "cell_type": "code",
   "execution_count": 26,
   "id": "672f8f9f",
   "metadata": {},
   "outputs": [
    {
     "data": {
      "text/plain": [
       "64.92127684000336"
      ]
     },
     "execution_count": 26,
     "metadata": {},
     "output_type": "execute_result"
    },
    {
     "data": {
      "text/plain": [
       "546.0264714601374"
      ]
     },
     "execution_count": 26,
     "metadata": {},
     "output_type": "execute_result"
    },
    {
     "data": {
      "text/plain": [
       "204.22070985549624"
      ]
     },
     "execution_count": 26,
     "metadata": {},
     "output_type": "execute_result"
    }
   ],
   "source": [
    "A = 45/np.log(2)\n",
    "B = 800 - A*np.log(50)\n",
    "A\n",
    "B\n",
    "# base score\n",
    "B + A*lr.intercept_[0]"
   ]
  },
  {
   "cell_type": "code",
   "execution_count": 28,
   "id": "60becf17",
   "metadata": {},
   "outputs": [
    {
     "data": {
      "text/plain": [
       "0         268.091243\n",
       "1         147.396653\n",
       "2         490.500164\n",
       "3          96.437736\n",
       "4         223.931970\n",
       "             ...    \n",
       "149995     84.398620\n",
       "149996     97.891402\n",
       "149997    104.085996\n",
       "149998     69.692431\n",
       "149999    146.442396\n",
       "Length: 150000, dtype: float64"
      ]
     },
     "execution_count": 28,
     "metadata": {},
     "output_type": "execute_result"
    },
    {
     "data": {
      "text/plain": [
       "0         148.196508\n",
       "1         110.330477\n",
       "2          76.829786\n",
       "3         173.239109\n",
       "4         144.836135\n",
       "             ...    \n",
       "101498     96.437736\n",
       "101499    273.529093\n",
       "101500     91.033129\n",
       "101501    285.098229\n",
       "101502     97.237590\n",
       "Length: 101503, dtype: float64"
      ]
     },
     "execution_count": 28,
     "metadata": {},
     "output_type": "execute_result"
    }
   ],
   "source": [
    "score = pd.Series([B + A*lr.intercept_[0]] * len(woe_df))\n",
    "for i in range(len(col_selection)):\n",
    "    score += A * lr.coef_[0][i] * woe_df[col_selection[i]]\n",
    "score\n",
    "\n",
    "test_score = pd.Series([B + A*lr.intercept_[0]] * len(woe_df_test))\n",
    "for i in range(len(col_selection)):\n",
    "    test_score += A * lr.coef_[0][i] * woe_df_test[col_selection[i]]\n",
    "test_score"
   ]
  },
  {
   "cell_type": "markdown",
   "id": "8d4c28da",
   "metadata": {},
   "source": [
    "# Other Models\n",
    "## XGBoost"
   ]
  },
  {
   "cell_type": "code",
   "execution_count": 31,
   "id": "7fafec63",
   "metadata": {},
   "outputs": [],
   "source": [
    "import xgboost as xgb\n",
    "from sklearn.metrics import mean_squared_error"
   ]
  },
  {
   "cell_type": "code",
   "execution_count": 32,
   "id": "e027d938",
   "metadata": {},
   "outputs": [],
   "source": [
    "train_x_xg, valid_x_xg, train_y_xg, valid_y_xg = train_test_split(train_df_knn, train_label, test_size = 0.25, random_state = 2021)"
   ]
  },
  {
   "cell_type": "code",
   "execution_count": 36,
   "id": "50ac2f05",
   "metadata": {},
   "outputs": [
    {
     "name": "stdout",
     "output_type": "stream",
     "text": [
      "[22:55:01] WARNING: /Users/runner/work/xgboost/xgboost/src/learner.cc:1115: Starting in XGBoost 1.3.0, the default evaluation metric used with the objective 'binary:logistic' was changed from 'error' to 'logloss'. Explicitly set eval_metric if you'd like to restore the old behavior.\n"
     ]
    },
    {
     "data": {
      "text/plain": [
       "XGBClassifier(base_score=0.5, booster='gbtree', colsample_bylevel=1,\n",
       "              colsample_bynode=1, colsample_bytree=1, enable_categorical=False,\n",
       "              gamma=0, gpu_id=-1, importance_type=None,\n",
       "              interaction_constraints='', learning_rate=0.300000012,\n",
       "              max_delta_step=0, max_depth=6, min_child_weight=1, missing=nan,\n",
       "              monotone_constraints='()', n_estimators=100, n_jobs=8,\n",
       "              num_parallel_tree=1, predictor='auto', random_state=0,\n",
       "              reg_alpha=0, reg_lambda=1, scale_pos_weight=1, subsample=1,\n",
       "              tree_method='exact', validate_parameters=1, verbosity=None)"
      ]
     },
     "execution_count": 36,
     "metadata": {},
     "output_type": "execute_result"
    },
    {
     "data": {
      "text/plain": [
       "0.93488"
      ]
     },
     "execution_count": 36,
     "metadata": {},
     "output_type": "execute_result"
    },
    {
     "name": "stdout",
     "output_type": "stream",
     "text": [
      "AUC = 0.8579308356157829\n",
      "KS = 0.56\n"
     ]
    },
    {
     "data": {
      "image/png": "[encoded data removed]",
      "text/plain": [
       "<Figure size 432x288 with 1 Axes>"
      ]
     },
     "metadata": {
      "needs_background": "light"
     },
     "output_type": "display_data"
    }
   ],
   "source": [
    "xg_cl = xgb.XGBClassifier()\n",
    "xg_cl.fit(train_x_xg, train_y_xg)\n",
    "\n",
    "xg_cl.score(valid_x_xg, valid_y_xg)\n",
    "\n",
    "predict_valid_xgb = xg_cl.predict_proba(valid_x_xg)[:,1]\n",
    "\n",
    "fpr, tpr, thresh_lr = roc_curve(valid_y_xg, predict_valid_xgb)\n",
    "plot_roc_curve(fpr,tpr)\n",
    "print('AUC = {}'.format(roc_auc_score(valid_y_xg, predict_valid_xgb)))\n",
    "print('KS = {}'.format(round((tpr-fpr).max(),2)))"
   ]
  },
  {
   "cell_type": "code",
   "execution_count": 37,
   "id": "6cd915a3",
   "metadata": {},
   "outputs": [],
   "source": [
    "submit_xg = pd.read_csv('sampleEntry.csv') \n",
    "submit_xg['Probability'] = xg_cl.predict_proba(test_df_knn)[:,1]\n",
    "submit_xg.to_csv('submit_xg.csv',index=False)"
   ]
  },
  {
   "cell_type": "markdown",
   "id": "f2f3f972",
   "metadata": {},
   "source": [
    "## Random Forest"
   ]
  },
  {
   "cell_type": "code",
   "execution_count": 38,
   "id": "3e4d9e6c",
   "metadata": {},
   "outputs": [],
   "source": [
    "from sklearn.ensemble import RandomForestClassifier"
   ]
  },
  {
   "cell_type": "code",
   "execution_count": 40,
   "id": "0137c3c2",
   "metadata": {},
   "outputs": [
    {
     "data": {
      "text/plain": [
       "RandomForestClassifier(max_depth=5, random_state=0)"
      ]
     },
     "execution_count": 40,
     "metadata": {},
     "output_type": "execute_result"
    },
    {
     "data": {
      "text/plain": [
       "0.9356"
      ]
     },
     "execution_count": 40,
     "metadata": {},
     "output_type": "execute_result"
    },
    {
     "name": "stdout",
     "output_type": "stream",
     "text": [
      "AUC = 0.8580893436731079\n",
      "KS = 0.56\n"
     ]
    },
    {
     "data": {
      "image/png": "[encoded data removed]",
      "text/plain": [
       "<Figure size 432x288 with 1 Axes>"
      ]
     },
     "metadata": {
      "needs_background": "light"
     },
     "output_type": "display_data"
    }
   ],
   "source": [
    "clf_rf = RandomForestClassifier(max_depth = 5, random_state=0)\n",
    "clf_rf.fit(train_x_xg, train_y_xg)\n",
    "clf_rf.score(valid_x_xg, valid_y_xg)\n",
    "\n",
    "predict_valid_rf = clf_rf.predict_proba(valid_x_xg)[:,1]\n",
    "\n",
    "fpr, tpr, thresh_lr = roc_curve(valid_y_xg, predict_valid_rf)\n",
    "plot_roc_curve(fpr,tpr)\n",
    "print('AUC = {}'.format(roc_auc_score(valid_y_xg, predict_valid_rf)))\n",
    "print('KS = {}'.format(round((tpr-fpr).max(),2)))"
   ]
  },
  {
   "cell_type": "code",
   "execution_count": 41,
   "id": "558496ce",
   "metadata": {},
   "outputs": [],
   "source": [
    "submit_rf = pd.read_csv('sampleEntry.csv') \n",
    "submit_rf['Probability'] = clf_rf.predict_proba(test_df_knn)[:,1]\n",
    "submit_rf.to_csv('submit_rf.csv',index=False)"
   ]
  },
  {
   "cell_type": "markdown",
   "id": "455e0b1f",
   "metadata": {},
   "source": [
    "# Future Improvements\n",
    "- Sample Imbalance Methods\n",
    "- Feature Engineer\n",
    "- Model Parameter Tuning"
   ]
  },
  {
   "cell_type": "code",
   "execution_count": null,
   "id": "d13b5cc6",
   "metadata": {},
   "outputs": [],
   "source": []
  }
 ],
 "metadata": {
  "kernelspec": {
   "display_name": "Python 3",
   "language": "python",
   "name": "python3"
  }
 },
 "nbformat": 4,
 "nbformat_minor": 5
}
